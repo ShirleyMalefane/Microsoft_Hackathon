{
 "cells": [
  {
   "cell_type": "markdown",
   "metadata": {},
   "source": [
    "# ChatPSI Documentation"
   ]
  },
  {
   "cell_type": "markdown",
   "metadata": {},
   "source": [
    "ChatPSI is a Streamlit-powered chatbot designed to provide public service information efficiently using a retrieval-augmented pipeline. It leverages LangChain's retrieval and text embedding capabilities with Ollama’s Llama models to ensure accurate responses based on structured government datasets."
   ]
  },
  {
   "cell_type": "markdown",
   "metadata": {},
   "source": [
    "Before running the application, ensure the required dependencies and virtual environment with  correct python version are installed:\n",
    "- conda create --name myenv python=3.9\n",
    "- conda activate myenv\n",
    "- pip install streamlit langchain-community pandas chromadb ollama\n",
    "- pull llama3.2:1b\n"
   ]
  },
  {
   "cell_type": "markdown",
   "metadata": {},
   "source": [
    "## Streamlit Interface"
   ]
  },
  {
   "cell_type": "markdown",
   "metadata": {},
   "source": [
    "1. Interface & Session Management\n",
    "Streamlit UI with conversation history using st.session_state.\n",
    "\n",
    "2. LLM & Embeddings\n",
    "Uses Llama3.2:1B via Ollama for responses and embeddings.\n",
    "\n",
    "3. Data Processing\n",
    "Loads CSV-based government responses.\n",
    "\n",
    "Splits text into 512-character chunks for retrieval.\n",
    "\n",
    "4. Vector Database (Chroma)\n",
    "Stores text embeddings for fast lookup.\n",
    "\n",
    "5. Retrieval-Augmented Generation (RAG)\n",
    "Uses retriever + Llama model to expand answers.\n",
    "\n",
    "6. User Interaction\n",
    "Accepts prompts via Streamlit chat input.\n",
    "\n",
    "Displays assistant responses dynamically."
   ]
  },
  {
   "cell_type": "markdown",
   "metadata": {},
   "source": [
    "# Usage"
   ]
  },
  {
   "cell_type": "markdown",
   "metadata": {},
   "source": [
    "on terminal run: \n",
    "- streamlit run streamlit.py\n"
   ]
  }
 ],
 "metadata": {
  "language_info": {
   "name": "python"
  }
 },
 "nbformat": 4,
 "nbformat_minor": 2
}
